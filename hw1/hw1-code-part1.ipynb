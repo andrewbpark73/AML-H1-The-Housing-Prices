{
 "cells": [
  {
   "cell_type": "markdown",
   "metadata": {},
   "source": [
    "# Part 1. Warm up"
   ]
  },
  {
   "cell_type": "markdown",
   "metadata": {},
   "source": [
    "# 1."
   ]
  },
  {
   "cell_type": "code",
   "execution_count": 1,
   "metadata": {},
   "outputs": [
    {
     "name": "stdout",
     "output_type": "stream",
     "text": [
      "[[1 2 3 4]\n",
      " [5 6 7 8]]\n"
     ]
    }
   ],
   "source": [
    "import numpy as np\n",
    "\n",
    "a = np.array([1, 2, 3, 4, 5, 6, 7, 8])\n",
    "reshaped_a = a.reshape(2, 4)\n",
    "\n",
    "print(reshaped_a)"
   ]
  },
  {
   "cell_type": "markdown",
   "metadata": {},
   "source": [
    "# 2."
   ]
  },
  {
   "cell_type": "code",
   "execution_count": 2,
   "metadata": {},
   "outputs": [
    {
     "name": "stdout",
     "output_type": "stream",
     "text": [
      "a is tensor([1, 3, 5, 6])\n",
      "b is tensor([5, 6, 8, 9])\n"
     ]
    }
   ],
   "source": [
    "import torch\n",
    "\n",
    "# Define the tensors\n",
    "a = torch.tensor([1,3,5,6])\n",
    "b = torch.tensor([5,6,8,9])\n",
    "\n",
    "print(f'a is {a}\\nb is {b}')"
   ]
  },
  {
   "cell_type": "code",
   "execution_count": 3,
   "metadata": {},
   "outputs": [
    {
     "data": {
      "text/plain": [
       "tensor([ 6,  9, 13, 15])"
      ]
     },
     "execution_count": 3,
     "metadata": {},
     "output_type": "execute_result"
    }
   ],
   "source": [
    "addition = a + b\n",
    "addition"
   ]
  },
  {
   "cell_type": "code",
   "execution_count": 4,
   "metadata": {},
   "outputs": [
    {
     "data": {
      "text/plain": [
       "tensor([ 5, 18, 40, 54])"
      ]
     },
     "execution_count": 4,
     "metadata": {},
     "output_type": "execute_result"
    }
   ],
   "source": [
    "multiplication = a * b\n",
    "multiplication"
   ]
  },
  {
   "cell_type": "code",
   "execution_count": 5,
   "metadata": {},
   "outputs": [
    {
     "data": {
      "text/plain": [
       "tensor([       1,      729,   390625, 10077696])"
      ]
     },
     "execution_count": 5,
     "metadata": {},
     "output_type": "execute_result"
    }
   ],
   "source": [
    "power = a ** b\n",
    "power"
   ]
  },
  {
   "cell_type": "code",
   "execution_count": 6,
   "metadata": {},
   "outputs": [
    {
     "data": {
      "text/plain": [
       "tensor(117)"
      ]
     },
     "execution_count": 6,
     "metadata": {},
     "output_type": "execute_result"
    }
   ],
   "source": [
    "dot = torch.dot(a,b)\n",
    "dot"
   ]
  },
  {
   "cell_type": "code",
   "execution_count": 7,
   "metadata": {},
   "outputs": [
    {
     "data": {
      "text/plain": [
       "tensor(1235.4036)"
      ]
     },
     "execution_count": 7,
     "metadata": {},
     "output_type": "execute_result"
    }
   ],
   "source": [
    "exponential_a = torch.exp(a)\n",
    "log_b = torch.log(b)\n",
    "dot_product_exponential_log = torch.dot(exponential_a, log_b)\n",
    "dot_product_exponential_log"
   ]
  },
  {
   "cell_type": "markdown",
   "metadata": {},
   "source": [
    "# 3."
   ]
  },
  {
   "cell_type": "markdown",
   "metadata": {},
   "source": [
    "* (a)"
   ]
  },
  {
   "cell_type": "code",
   "execution_count": 8,
   "metadata": {},
   "outputs": [
    {
     "name": "stdout",
     "output_type": "stream",
     "text": [
      "Gradient of x is 5194.4609375\n",
      "Gradient of y is 58093.75\n",
      "Gradient of z is 1192383.25\n",
      "Gradient of k is 4813232.0\n"
     ]
    }
   ],
   "source": [
    "x_val = 5\n",
    "y_val = 6\n",
    "z_val = 8\n",
    "k_val = 9\n",
    "\n",
    "# Create tensors with the values, specify requires_grad=True\n",
    "x = torch.tensor([x_val], dtype=torch.float32, requires_grad=True)\n",
    "y = torch.tensor([y_val], dtype=torch.float32, requires_grad=True)\n",
    "z = torch.tensor([z_val], dtype=torch.float32, requires_grad=True)\n",
    "k = torch.tensor([k_val], dtype=torch.float32, requires_grad=True)\n",
    "\n",
    "g = torch.exp(x) * x**2 + 3 * torch.exp(y) * y**2 + 5 * torch.exp(z) * z**2 + 6 * torch.exp(k) * k**2\n",
    "\n",
    "g.backward()\n",
    "\n",
    "gradient_x = x.grad\n",
    "gradient_y = y.grad\n",
    "gradient_z = z.grad\n",
    "gradient_k = k.grad\n",
    "\n",
    "print(f'Gradient of x is {gradient_x.item()}')\n",
    "print(f'Gradient of y is {gradient_y.item()}')\n",
    "print(f'Gradient of z is {gradient_z.item()}')\n",
    "print(f'Gradient of k is {gradient_k.item()}')"
   ]
  },
  {
   "cell_type": "markdown",
   "metadata": {},
   "source": [
    "* (b)"
   ]
  },
  {
   "cell_type": "code",
   "execution_count": 9,
   "metadata": {},
   "outputs": [
    {
     "name": "stdout",
     "output_type": "stream",
     "text": [
      "tensor([[0.1737, 0.2854],\n",
      "        [0.3837, 0.6404]])\n"
     ]
    }
   ],
   "source": [
    "A_ = [[4,3],[7,9]]\n",
    "B_ = [[3,5],[1,11]]\n",
    "\n",
    "A = torch.tensor(A_, dtype=torch.float32, requires_grad=True)\n",
    "B = torch.tensor(B_, dtype=torch.float32)\n",
    "\n",
    "f_A = torch.log(torch.norm(torch.matmul(torch.matmul(torch.matmul(torch.matmul(torch.matmul(torch.matmul(A.T, A), B.T), A), A.T), A), B),p=2)**2)\n",
    "\n",
    "f_A.backward()\n",
    "\n",
    "gradient_A = A.grad\n",
    "\n",
    "print(gradient_A)\n"
   ]
  },
  {
   "cell_type": "markdown",
   "metadata": {},
   "source": [
    "* (c)"
   ]
  },
  {
   "cell_type": "code",
   "execution_count": 10,
   "metadata": {},
   "outputs": [
    {
     "name": "stdout",
     "output_type": "stream",
     "text": [
      "Gradient at the point\n",
      "(x = 3, y = 7) is (0.009865999221801758, 3.337860107421875e-06)\n"
     ]
    }
   ],
   "source": [
    "x_val = 3\n",
    "y_val = 7\n",
    "\n",
    "x = torch.tensor([x_val], dtype=torch.float32,requires_grad=True)\n",
    "y = torch.tensor([y_val], dtype=torch.float32,requires_grad=True)\n",
    "\n",
    "F = torch.tanh(x) + torch.tanh(y)\n",
    "\n",
    "F.backward()\n",
    "\n",
    "gradient_x = x.grad\n",
    "gradient_y = y.grad\n",
    "\n",
    "print(f'Gradient at the point\\n(x = 3, y = 7) is ({gradient_x.item()}, {gradient_y.item()})'\n",
    "    )"
   ]
  },
  {
   "cell_type": "markdown",
   "metadata": {},
   "source": [
    "# 4."
   ]
  },
  {
   "cell_type": "markdown",
   "metadata": {},
   "source": [
    "(1)"
   ]
  },
  {
   "cell_type": "code",
   "execution_count": 11,
   "metadata": {},
   "outputs": [],
   "source": [
    "a = torch.tensor([1,2,3], dtype=int)\n",
    "\n",
    "b = a.numpy()\n",
    "\n",
    "a_float = a.float()\n"
   ]
  },
  {
   "cell_type": "code",
   "execution_count": 12,
   "metadata": {},
   "outputs": [
    {
     "data": {
      "text/plain": [
       "array([1, 2, 3])"
      ]
     },
     "execution_count": 12,
     "metadata": {},
     "output_type": "execute_result"
    }
   ],
   "source": [
    "b"
   ]
  },
  {
   "cell_type": "markdown",
   "metadata": {},
   "source": [
    "(2)"
   ]
  },
  {
   "cell_type": "code",
   "execution_count": 13,
   "metadata": {},
   "outputs": [
    {
     "data": {
      "text/plain": [
       "tensor([1., 2., 3.])"
      ]
     },
     "execution_count": 13,
     "metadata": {},
     "output_type": "execute_result"
    }
   ],
   "source": [
    "a_float"
   ]
  },
  {
   "cell_type": "markdown",
   "metadata": {},
   "source": [
    "# 5."
   ]
  },
  {
   "cell_type": "markdown",
   "metadata": {},
   "source": [
    "(1)"
   ]
  },
  {
   "cell_type": "code",
   "execution_count": 14,
   "metadata": {},
   "outputs": [
    {
     "data": {
      "text/plain": [
       "array([[27, 57],\n",
       "       [29, 49]])"
      ]
     },
     "execution_count": 14,
     "metadata": {},
     "output_type": "execute_result"
    }
   ],
   "source": [
    "a = np.array([[1,3,5],[2,1,5]])\n",
    "b = np.array([[8,4],[3,6],[2,7]])\n",
    "\n",
    "dot = np.dot(a,b)\n",
    "\n",
    "dot"
   ]
  },
  {
   "cell_type": "markdown",
   "metadata": {},
   "source": [
    "(2)"
   ]
  },
  {
   "cell_type": "code",
   "execution_count": 15,
   "metadata": {},
   "outputs": [
    {
     "data": {
      "text/plain": [
       "100.024996875781"
      ]
     },
     "execution_count": 15,
     "metadata": {},
     "output_type": "execute_result"
    }
   ],
   "source": [
    "a = np.array([[100,2,1]])\n",
    "\n",
    "f_n = np.linalg.norm(a, 'fro')\n",
    "\n",
    "f_n"
   ]
  }
 ],
 "metadata": {
  "kernelspec": {
   "display_name": "Python 3",
   "language": "python",
   "name": "python3"
  },
  "language_info": {
   "codemirror_mode": {
    "name": "ipython",
    "version": 3
   },
   "file_extension": ".py",
   "mimetype": "text/x-python",
   "name": "python",
   "nbconvert_exporter": "python",
   "pygments_lexer": "ipython3",
   "version": "3.11.5"
  },
  "orig_nbformat": 4
 },
 "nbformat": 4,
 "nbformat_minor": 2
}
